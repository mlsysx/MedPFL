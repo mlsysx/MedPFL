{
 "cells": [
  {
   "cell_type": "code",
   "execution_count": null,
   "metadata": {},
   "outputs": [],
   "source": [
    "import torch\n",
    "import torchvision\n",
    "\n",
    "import numpy as np\n",
    "import matplotlib.pyplot as plt\n",
    "from collections import defaultdict\n",
    "from PIL import Image\n",
    "from pytorch_msssim import ssim\n",
    "import torchvision.transforms as T\n",
    "from PIL import Image\n",
    "import datetime\n",
    "import time\n",
    "import os"
   ]
  },
  {
   "cell_type": "code",
   "execution_count": null,
   "metadata": {},
   "outputs": [],
   "source": [
    "print(torch.cuda.is_available())\n",
    "print(torch.cuda.get_device_name())\n",
    "print(torch.cuda.memory_allocated())"
   ]
  },
  {
   "cell_type": "markdown",
   "metadata": {},
   "source": [
    "# Choose variants here:"
   ]
  },
  {
   "cell_type": "code",
   "execution_count": null,
   "metadata": {},
   "outputs": [],
   "source": [
    "trained_model = True\n",
    "arch = 'ResNet18'"
   ]
  },
  {
   "cell_type": "markdown",
   "metadata": {},
   "source": [
    "## System setup:"
   ]
  },
  {
   "cell_type": "code",
   "execution_count": null,
   "metadata": {},
   "outputs": [],
   "source": [
    "import inversefed\n",
    "setup = inversefed.utils.system_startup()\n",
    "defs = inversefed.training_strategy('conservative')\n",
    "\n",
    "loss_fn, trainloader, validloader =  inversefed.construct_dataloaders('ImageNet', defs, \n",
    "                                                                      data_path=r'inversefed/data/Brain-Tumor-MRI-Dataset')\n",
    "\n",
    "model = torchvision.models.resnet18(pretrained=trained_model)\n",
    "model.to(**setup)\n",
    "model.eval();"
   ]
  },
  {
   "cell_type": "code",
   "execution_count": null,
   "metadata": {},
   "outputs": [],
   "source": [
    "dm = torch.as_tensor(inversefed.consts.cifar10_mean, **setup)[:, None, None]\n",
    "ds = torch.as_tensor(inversefed.consts.cifar10_std, **setup)[:, None, None]\n",
    "def plot(tensor):\n",
    "    tensor = tensor.clone().detach()\n",
    "    tensor.mul_(ds).add_(dm).clamp_(0, 1)\n",
    "    if tensor.shape[0] == 1:\n",
    "        return plt.imshow(tensor[0].permute(1, 2, 0).cpu());\n",
    "    else:\n",
    "        fig, axes = plt.subplots(1, tensor.shape[0], figsize=(12, tensor.shape[0]*12))\n",
    "        for i, im in enumerate(tensor):\n",
    "            axes[i].imshow(im.permute(1, 2, 0).cpu());\n",
    "        "
   ]
  },
  {
   "cell_type": "code",
   "execution_count": null,
   "metadata": {},
   "outputs": [],
   "source": []
  },
  {
   "cell_type": "markdown",
   "metadata": {},
   "source": [
    "# Reconstruct"
   ]
  },
  {
   "cell_type": "code",
   "execution_count": null,
   "metadata": {},
   "outputs": [],
   "source": [
    "len(trainloader.dataset)"
   ]
  },
  {
   "cell_type": "markdown",
   "metadata": {},
   "source": [
    "### Build the input (ground-truth) gradient"
   ]
  },
  {
   "cell_type": "code",
   "execution_count": null,
   "metadata": {},
   "outputs": [],
   "source": [
    "output_folder = \"Brain_MRI_input_and_recovered_images_for_Resnet_trained_100_img_v3\"\n",
    "if not os.path.exists(output_folder):\n",
    "    os.makedirs(output_folder)"
   ]
  },
  {
   "cell_type": "markdown",
   "metadata": {},
   "source": [
    "# For 100 Images"
   ]
  },
  {
   "cell_type": "code",
   "execution_count": null,
   "metadata": {
    "scrolled": true
   },
   "outputs": [],
   "source": [
    "test_mse_final=0\n",
    "sSim_final=0\n",
    "whole_duration=0\n",
    "loss_value=0\n",
    "count=0\n",
    "ASR=0\n",
    "ssim_store=[]\n",
    "mse_store=[]\n",
    "for i in range (0, len(trainloader.dataset),57):\n",
    "    print(\"Image No.\", count+1)\n",
    "    print(\"For image : \", i)\n",
    "    \n",
    "    idx = i \n",
    "    # 8112 # the beagle\n",
    "    # 1200 # the owl\n",
    "    # 11794 # the German shepherd\n",
    "    # 19449 # the panda\n",
    "\n",
    "\n",
    "    # np.random.randint(len(validloader.dataset))\n",
    "\n",
    "    img, label = trainloader.dataset[idx]\n",
    "    labels = torch.as_tensor((label,), device=setup['device'])\n",
    "    ground_truth = img.to(**setup).unsqueeze(0)\n",
    "   \n",
    "    #plot(ground_truth);\n",
    "    #print([validloader.dataset.classes[l] for l in labels]);\n",
    "\n",
    "\n",
    "    ground_truth_denormalized = torch.clamp(ground_truth * ds + dm, 0, 1)\n",
    "    \n",
    "    \n",
    "    output_path = os.path.join(output_folder, f'{idx}_{arch}_Brain_MRI_trained_input_loop_test.png')\n",
    "    torchvision.utils.save_image(ground_truth_denormalized, output_path)\n",
    "    \n",
    "    \n",
    "    #torchvision.utils.save_image(ground_truth_denormalized, f'{idx}_{arch}_covid_19_trained_input_loop_test.png')\n",
    "\n",
    "\n",
    "    model.zero_grad()\n",
    "    target_loss, _, _ = loss_fn(model(ground_truth), labels)\n",
    "    input_gradient = torch.autograd.grad(target_loss, model.parameters())\n",
    "    input_gradient = [grad.detach() for grad in input_gradient]\n",
    "    full_norm = torch.stack([g.norm() for g in input_gradient]).mean()\n",
    "    print(f'Full gradient norm is {full_norm:e}.')\n",
    "    config = dict(signed=True,\n",
    "                  boxed=True,\n",
    "                  cost_fn='sim',\n",
    "                  indices='def',\n",
    "                  weights='equal',\n",
    "                  lr=0.1,\n",
    "                  optim='adam',\n",
    "                  restarts=8,\n",
    "                  max_iterations=24000,\n",
    "                  total_variation=1e-1,\n",
    "                  init='randn',\n",
    "                  filter='none',\n",
    "                  lr_decay=True,\n",
    "                  scoring_choice='loss')\n",
    "    start_time = time.time()\n",
    "    rec_machine = inversefed.GradientReconstructor(model, (dm, ds), config, num_images=1)\n",
    "    output, stats = rec_machine.reconstruct(input_gradient, labels, img_shape=(3, 224, 224))\n",
    "    end_time=time.time()\n",
    "\n",
    "    test_mse = (output.detach() - ground_truth).pow(2).mean()\n",
    "    mse_store.append(test_mse)\n",
    "    test_mse_final=test_mse_final+test_mse\n",
    "    \n",
    "    feat_mse = (model(output.detach())- model(ground_truth)).pow(2).mean()  \n",
    "    test_psnr = inversefed.metrics.psnr(output, ground_truth, factor=1/ds)\n",
    "    \n",
    "    sSim=ssim(output, ground_truth).item()\n",
    "    ssim_store.append(sSim)\n",
    "    sSim_final=sSim_final+sSim\n",
    "    \n",
    "    loss_value=loss_value+stats['opt']\n",
    "    plot(output)\n",
    "    \n",
    "    \n",
    "    \n",
    "    plt.title(f\"Rec. loss: {stats['opt']:2.4f} | MSE: {test_mse:2.4f} | SSIM: {sSim:2.4f}\"\n",
    "              f\"| PSNR: {test_psnr:4.2f} | FMSE: {feat_mse:2.4e} |\");\n",
    "    \n",
    "    output_denormalized = torch.clamp(output * ds + dm, 0, 1)\n",
    "    \n",
    "    \n",
    "    \n",
    "    #torchvision.utils.save_image(output_denormalized, f'{idx}_{arch}_covid_19_trained_output_loop_test.png')\n",
    "    \n",
    "    output_path = os.path.join(output_folder, f'{idx}_{arch}_Brain_MRI_trained_output_loop_test.png')\n",
    "    torchvision.utils.save_image(output_denormalized, output_path)\n",
    "    \n",
    "\n",
    "    \n",
    "    data = inversefed.metrics.activation_errors(model, output, ground_truth)\n",
    "    fig, axes = plt.subplots(2, 4, sharey=False, figsize=(14,8))\n",
    "    axes[0, 0].semilogy(list(data['se'].values())[:-3])\n",
    "    axes[0, 0].set_title('SE')\n",
    "    axes[0, 1].semilogy(list(data['mse'].values())[:-3])\n",
    "    axes[0, 1].set_title('MSE')\n",
    "    axes[0, 2].plot(list(data['sim'].values())[:-3])\n",
    "    axes[0, 2].set_title('Similarity')\n",
    "\n",
    "    convs = [val for key, val in data['mse'].items() if 'conv' in key]\n",
    "    axes[1, 0].semilogy(convs)\n",
    "    axes[1, 0].set_title('MSE - conv layers')\n",
    "    convs = [val for key, val in data['mse'].items() if 'conv1' in key]\n",
    "    axes[1, 1].semilogy(convs)\n",
    "    convs = [val for key, val in data['mse'].items() if 'conv2' in key]\n",
    "    axes[1, 1].semilogy(convs)\n",
    "    axes[1, 1].set_title('MSE - conv1 vs conv2 layers')\n",
    "    bns = [val for key, val in data['mse'].items() if 'bn' in key]\n",
    "    axes[1, 2].plot(bns)\n",
    "    axes[1, 2].set_title('MSE - bn layers')\n",
    "    fig.suptitle('Error between layers');\n",
    "    \n",
    "    \n",
    "    \n",
    "    duration=end_time-start_time\n",
    "    whole_duration=whole_duration+duration\n",
    "    print(\"Time to recover Image\", i, \": \",duration)\n",
    "    if(sSim>=0.9):\n",
    "        ASR=ASR+1\n",
    "    print()\n",
    "    count=count+1"
   ]
  },
  {
   "cell_type": "code",
   "execution_count": null,
   "metadata": {},
   "outputs": [],
   "source": []
  },
  {
   "cell_type": "code",
   "execution_count": null,
   "metadata": {},
   "outputs": [],
   "source": [
    "print(\"Total no. of Images: \",count)\n",
    "print(\"Attack Success Rate: \", ASR/count)\n",
    "print(\"Avg. MSE: \",test_mse_final.item()/count)\n",
    "print(\"Avg. SSIM: \",sSim_final/count)\n",
    "print(\"Avg. loss value: \",loss_value/count)\n",
    "print(\"Avg. Duration to recover: \",whole_duration/count)\n"
   ]
  },
  {
   "cell_type": "code",
   "execution_count": null,
   "metadata": {},
   "outputs": [],
   "source": []
  },
  {
   "cell_type": "code",
   "execution_count": null,
   "metadata": {},
   "outputs": [],
   "source": [
    "wwwww=0\n",
    "print(ssim_store)\n",
    "for d in range(len(ssim_store)):\n",
    "    if(ssim_store[d]>=.8):\n",
    "        wwwww=wwwww+1\n",
    "print(wwwww/len(ssim_store))"
   ]
  },
  {
   "cell_type": "code",
   "execution_count": null,
   "metadata": {},
   "outputs": [],
   "source": []
  },
  {
   "cell_type": "code",
   "execution_count": null,
   "metadata": {},
   "outputs": [],
   "source": []
  },
  {
   "cell_type": "code",
   "execution_count": null,
   "metadata": {},
   "outputs": [],
   "source": []
  },
  {
   "cell_type": "code",
   "execution_count": null,
   "metadata": {},
   "outputs": [],
   "source": []
  },
  {
   "cell_type": "code",
   "execution_count": null,
   "metadata": {},
   "outputs": [],
   "source": []
  },
  {
   "cell_type": "code",
   "execution_count": null,
   "metadata": {},
   "outputs": [],
   "source": []
  },
  {
   "cell_type": "code",
   "execution_count": null,
   "metadata": {},
   "outputs": [],
   "source": []
  },
  {
   "cell_type": "code",
   "execution_count": null,
   "metadata": {},
   "outputs": [],
   "source": []
  },
  {
   "cell_type": "code",
   "execution_count": null,
   "metadata": {},
   "outputs": [],
   "source": []
  },
  {
   "cell_type": "code",
   "execution_count": null,
   "metadata": {},
   "outputs": [],
   "source": []
  },
  {
   "cell_type": "code",
   "execution_count": null,
   "metadata": {},
   "outputs": [],
   "source": []
  },
  {
   "cell_type": "code",
   "execution_count": null,
   "metadata": {},
   "outputs": [],
   "source": []
  },
  {
   "cell_type": "code",
   "execution_count": null,
   "metadata": {},
   "outputs": [],
   "source": []
  }
 ],
 "metadata": {
  "kernelspec": {
   "display_name": "Python 3 (ipykernel)",
   "language": "python",
   "name": "python3"
  },
  "language_info": {
   "codemirror_mode": {
    "name": "ipython",
    "version": 3
   },
   "file_extension": ".py",
   "mimetype": "text/x-python",
   "name": "python",
   "nbconvert_exporter": "python",
   "pygments_lexer": "ipython3",
   "version": "3.11.5"
  }
 },
 "nbformat": 4,
 "nbformat_minor": 4
}
